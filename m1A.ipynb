{
 "cells": [
  {
   "cell_type": "code",
   "execution_count": 79,
   "id": "9990c3cd",
   "metadata": {},
   "outputs": [],
   "source": [
    "import yaml\n",
    "from yaml.loader import SafeLoader\n",
    "import time\n",
    "import datetime\n",
    "import multiprocessing\n",
    "from multiprocessing import Pool\n",
    "from multiprocessing import Process\n",
    "import pandas as pd"
   ]
  },
  {
   "cell_type": "code",
   "execution_count": 80,
   "id": "ee2f26b8",
   "metadata": {},
   "outputs": [],
   "source": [
    "# filename = 'Milestone1A.yaml'\n",
    "\n",
    "with open('Milestone1A.yaml') as f:\n",
    "    data = yaml.load(f, Loader=SafeLoader)\n",
    "#     print(data)\n"
   ]
  },
  {
   "cell_type": "code",
   "execution_count": null,
   "id": "b707c40c",
   "metadata": {},
   "outputs": [],
   "source": []
  },
  {
   "cell_type": "code",
   "execution_count": 81,
   "id": "9f1360d6",
   "metadata": {},
   "outputs": [],
   "source": [
    "def dataLoad(txt, file, inps):\n",
    "    ct = datetime.datetime.now()\n",
    "    print(str(ct)+';'+txt+\" Executing DataLoad(\",inps,\")\")\n",
    "    f.write(str(ct)+';'+txt+\" Executing DataLoad(\",inps,\")\")\n",
    "    \n",
    "    DataTable=pd.read_csv(file)\n",
    "    NoOfDefects=DataTable.shape[0]-1\n",
    "    \n",
    "    ct = datetime.datetime.now()\n",
    "    print(str(ct)+';'+txt+\" Exit\")\n",
    "    f.write(str(ct)+';'+txt+\" Exit\\n\")\n",
    "    \n",
    "def timeFunction(txt, val, inps):\n",
    "    ct = datetime.datetime.now()\n",
    "    print(str(ct)+';'+txt+\" Executing TimeFunction(\",inps,\")\")\n",
    "    f.write(str(ct)+';'+txt+\" Executing TimeFunction(\"+inps+\")\\n\")\n",
    "    \n",
    "    time.sleep(int(val))\n",
    "    \n",
    "    ct = datetime.datetime.now()\n",
    "    print(str(ct)+';'+txt+\" Exit\")\n",
    "    f.write(str(ct)+';'+txt+\" Exit\\n\")"
   ]
  },
  {
   "cell_type": "code",
   "execution_count": null,
   "id": "064e2160",
   "metadata": {},
   "outputs": [],
   "source": []
  },
  {
   "cell_type": "code",
   "execution_count": 82,
   "id": "f711702f",
   "metadata": {},
   "outputs": [],
   "source": [
    "def fun(name, obj, stack):\n",
    "    \n",
    "#     print(name, obj)\n",
    "    \n",
    "    if(obj['Type']=='Task'):\n",
    "\n",
    "        str_ = \"\"\n",
    "        for it in stack:\n",
    "            str_ += it+'.'  \n",
    "            \n",
    "        ct = datetime.datetime.now()\n",
    "        print(str(ct)+';' + str_ + name + ' Entry') #TASK entry\n",
    "        f.write(str(ct)+';' + str_ + name + ' Entry\\n')\n",
    "        \n",
    "        inps=[]\n",
    "        for ele in obj['Inputs']:\n",
    "            inps.append(ele)\n",
    "        \n",
    "        temp=\"\"\n",
    "        for ele in inps[:-1]:\n",
    "            temp+=str(obj['Inputs'][ele])+','\n",
    "        temp+=str(obj['Inputs'][inps[-1]])\n",
    "        \n",
    "        if(obj['Function']==\"DataLoad\"):\n",
    "            dataLoad(str_+name,obj['Inputs']['Filename'],temp)\n",
    "            \n",
    "        elif(obj['Function']==\"TimeFunction\"):         \n",
    "            timeFunction(str_+name,obj['Inputs']['ExecutionTime'],temp)\n",
    "            \n",
    "\n",
    "    if(obj['Type']=='Flow'):\n",
    "        \n",
    "        str_ = \"\"\n",
    "        for it in stack:\n",
    "            str_ += it+'.'\n",
    "            \n",
    "        ct = datetime.datetime.now()\n",
    "        print(str(ct)+';' + str_ + name + ' Entry') #FLOW entry        \n",
    "        f.write(str(ct)+';' + str_ + name + ' Entry\\n')\n",
    "        \n",
    "        stack.append(name)\n",
    "        \n",
    "        \n",
    "        if(obj['Execution']==\"Sequential\"):\n",
    "            for act in obj['Activities']:\n",
    "                fun(act, obj['Activities'][act],stack)\n",
    "        \n",
    "            stack.pop()\n",
    "            \n",
    "            ct = datetime.datetime.now()\n",
    "            print(str(ct)+';' + str_ + name + ' Exit') #FLOW exit\n",
    "            f.write(str(ct)+';' + str_ + name + ' Exit\\n')\n",
    "        \n",
    "        \n",
    "        if(obj['Execution']==\"Concurrent\"):\n",
    "            \n",
    "            cnt=0\n",
    "            params = []\n",
    "            \n",
    "            for act in obj['Activities']:\n",
    "                p = Process(target=fun, args=(act,obj['Activities'][act],stack))\n",
    "                p.start()\n",
    "            p.join()   \n",
    "        \n",
    "            stack.pop()\n",
    "            print(txt+' Exit') #FLOW exit\n",
    "            f.write(txt+' Exit\\n')\n",
    "    \n"
   ]
  },
  {
   "cell_type": "code",
   "execution_count": 83,
   "id": "c5beadbd",
   "metadata": {},
   "outputs": [
    {
     "name": "stdout",
     "output_type": "stream",
     "text": [
      "2022-03-08 13:53:45.935590;M1A_Workflow Entry\n",
      "2022-03-08 13:53:45.935860;M1A_Workflow.TaskA Entry\n",
      "2022-03-08 13:53:45.935957;M1A_Workflow.TaskA Executing TimeFunction( TaskA_Input,1 )\n",
      "2022-03-08 13:53:46.937232;M1A_Workflow.TaskA Exit\n",
      "2022-03-08 13:53:46.938383;M1A_Workflow.TaskB Entry\n",
      "2022-03-08 13:53:46.938585;M1A_Workflow.TaskB Executing TimeFunction( TaskB_Input,2 )\n",
      "2022-03-08 13:53:48.940986;M1A_Workflow.TaskB Exit\n",
      "2022-03-08 13:53:48.941161;M1A_Workflow.FlowA Entry\n",
      "2022-03-08 13:53:48.941211;M1A_Workflow.FlowA.TaskC Entry\n",
      "2022-03-08 13:53:48.941813;M1A_Workflow.FlowA.TaskC Executing TimeFunction( TaskC_Input,3 )\n",
      "2022-03-08 13:53:51.945398;M1A_Workflow.FlowA.TaskC Exit\n",
      "2022-03-08 13:53:51.945810;M1A_Workflow.FlowA.TaskD Entry\n",
      "2022-03-08 13:53:51.945945;M1A_Workflow.FlowA.TaskD Executing TimeFunction( TaskD_Input,4 )\n",
      "2022-03-08 13:53:55.948890;M1A_Workflow.FlowA.TaskD Exit\n",
      "2022-03-08 13:53:55.949180;M1A_Workflow.FlowA Exit\n",
      "2022-03-08 13:53:55.949273;M1A_Workflow Exit\n"
     ]
    }
   ],
   "source": [
    "f = open(\"Milestone1A_log.txt\",\"w+\")\n",
    "start = list(data.keys())[0]\n",
    "fun(start, data[start], [])\n",
    "f.close()"
   ]
  },
  {
   "cell_type": "code",
   "execution_count": null,
   "id": "63f6a87e",
   "metadata": {},
   "outputs": [],
   "source": []
  },
  {
   "cell_type": "code",
   "execution_count": 84,
   "id": "389fbf71",
   "metadata": {},
   "outputs": [
    {
     "ename": "AssertionError",
     "evalue": "group argument must be None for now",
     "output_type": "error",
     "traceback": [
      "\u001b[0;31m---------------------------------------------------------------------------\u001b[0m",
      "\u001b[0;31mAssertionError\u001b[0m                            Traceback (most recent call last)",
      "\u001b[0;32m<ipython-input-84-550ac535ef3b>\u001b[0m in \u001b[0;36m<module>\u001b[0;34m\u001b[0m\n\u001b[1;32m      4\u001b[0m \u001b[0;34m\u001b[0m\u001b[0m\n\u001b[1;32m      5\u001b[0m \u001b[0;32mif\u001b[0m \u001b[0m__name__\u001b[0m \u001b[0;34m==\u001b[0m \u001b[0;34m'__main__'\u001b[0m\u001b[0;34m:\u001b[0m\u001b[0;34m\u001b[0m\u001b[0;34m\u001b[0m\u001b[0m\n\u001b[0;32m----> 6\u001b[0;31m         \u001b[0mp\u001b[0m \u001b[0;34m=\u001b[0m \u001b[0mProcess\u001b[0m\u001b[0;34m(\u001b[0m\u001b[0;36m0\u001b[0m\u001b[0;34m)\u001b[0m\u001b[0;34m\u001b[0m\u001b[0;34m\u001b[0m\u001b[0m\n\u001b[0m\u001b[1;32m      7\u001b[0m         \u001b[0mp\u001b[0m\u001b[0;34m.\u001b[0m\u001b[0mstart\u001b[0m\u001b[0;34m(\u001b[0m\u001b[0;34m)\u001b[0m\u001b[0;34m\u001b[0m\u001b[0;34m\u001b[0m\u001b[0m\n\u001b[1;32m      8\u001b[0m         \u001b[0mp\u001b[0m\u001b[0;34m.\u001b[0m\u001b[0mjoin\u001b[0m\u001b[0;34m(\u001b[0m\u001b[0;34m)\u001b[0m\u001b[0;34m\u001b[0m\u001b[0;34m\u001b[0m\u001b[0m\n",
      "\u001b[0;32m/usr/lib/python3.6/multiprocessing/process.py\u001b[0m in \u001b[0;36m__init__\u001b[0;34m(self, group, target, name, args, kwargs, daemon)\u001b[0m\n\u001b[1;32m     71\u001b[0m     def __init__(self, group=None, target=None, name=None, args=(), kwargs={},\n\u001b[1;32m     72\u001b[0m                  *, daemon=None):\n\u001b[0;32m---> 73\u001b[0;31m         \u001b[0;32massert\u001b[0m \u001b[0mgroup\u001b[0m \u001b[0;32mis\u001b[0m \u001b[0;32mNone\u001b[0m\u001b[0;34m,\u001b[0m \u001b[0;34m'group argument must be None for now'\u001b[0m\u001b[0;34m\u001b[0m\u001b[0;34m\u001b[0m\u001b[0m\n\u001b[0m\u001b[1;32m     74\u001b[0m         \u001b[0mcount\u001b[0m \u001b[0;34m=\u001b[0m \u001b[0mnext\u001b[0m\u001b[0;34m(\u001b[0m\u001b[0m_process_counter\u001b[0m\u001b[0;34m)\u001b[0m\u001b[0;34m\u001b[0m\u001b[0;34m\u001b[0m\u001b[0m\n\u001b[1;32m     75\u001b[0m         \u001b[0mself\u001b[0m\u001b[0;34m.\u001b[0m\u001b[0m_identity\u001b[0m \u001b[0;34m=\u001b[0m \u001b[0m_current_process\u001b[0m\u001b[0;34m.\u001b[0m\u001b[0m_identity\u001b[0m \u001b[0;34m+\u001b[0m \u001b[0;34m(\u001b[0m\u001b[0mcount\u001b[0m\u001b[0;34m,\u001b[0m\u001b[0;34m)\u001b[0m\u001b[0;34m\u001b[0m\u001b[0;34m\u001b[0m\u001b[0m\n",
      "\u001b[0;31mAssertionError\u001b[0m: group argument must be None for now"
     ]
    }
   ],
   "source": [
    "\n",
    "# import time\n",
    "\n",
    "\n",
    "\n",
    "if __name__ == '__main__':\n",
    "\tp = Process(0)\n",
    "\tp.start()\n",
    "\tp.join()\n",
    "\tp = Process(1)\n",
    "\tp.start()\n",
    "\tp.join()\n"
   ]
  },
  {
   "cell_type": "code",
   "execution_count": null,
   "id": "eb9f0ac7",
   "metadata": {},
   "outputs": [],
   "source": [
    "\n",
    "# def f(name,val):\n",
    "#     time.sleep(val)\n",
    "#     if val == 5:\n",
    "#         p = Process(target=f, args=('second',val-4))\n",
    "#         p.start()\n",
    "\n",
    "#     print('hello', name)\n",
    "\n",
    "# if __name__ == '__main__':\n",
    "\n",
    "#     p = Process(target=f, args=('first',5))\n",
    "#     p.start()\n",
    "#     p.join()"
   ]
  },
  {
   "cell_type": "code",
   "execution_count": null,
   "id": "c0f583df",
   "metadata": {},
   "outputs": [],
   "source": []
  },
  {
   "cell_type": "code",
   "execution_count": null,
   "id": "c5cdab6a",
   "metadata": {},
   "outputs": [],
   "source": []
  }
 ],
 "metadata": {
  "kernelspec": {
   "display_name": "Python 3",
   "language": "python",
   "name": "python3"
  },
  "language_info": {
   "codemirror_mode": {
    "name": "ipython",
    "version": 3
   },
   "file_extension": ".py",
   "mimetype": "text/x-python",
   "name": "python",
   "nbconvert_exporter": "python",
   "pygments_lexer": "ipython3",
   "version": "3.6.9"
  }
 },
 "nbformat": 4,
 "nbformat_minor": 5
}
