{
 "cells": [
  {
   "cell_type": "code",
   "execution_count": 142,
   "id": "9990c3cd",
   "metadata": {},
   "outputs": [],
   "source": [
    "import yaml\n",
    "from yaml.loader import SafeLoader\n",
    "import time\n",
    "import datetime"
   ]
  },
  {
   "cell_type": "code",
   "execution_count": 143,
   "id": "ee2f26b8",
   "metadata": {},
   "outputs": [
    {
     "name": "stdout",
     "output_type": "stream",
     "text": [
      "{'M1A_Workflow': {'Type': 'Flow', 'Execution': 'Sequential', 'Activities': {'TaskA': {'Type': 'Task', 'Function': 'TimeFunction', 'Inputs': {'FunctionInput': 'TaskA_Input', 'ExecutionTime': '1'}}, 'TaskB': {'Type': 'Task', 'Function': 'TimeFunction', 'Inputs': {'FunctionInput': 'TaskB_Input', 'ExecutionTime': '2'}}, 'FlowA': {'Type': 'Flow', 'Execution': 'Sequential', 'Activities': {'TaskC': {'Type': 'Task', 'Function': 'TimeFunction', 'Inputs': {'FunctionInput': 'TaskC_Input', 'ExecutionTime': '3'}}, 'TaskD': {'Type': 'Task', 'Function': 'TimeFunction', 'Inputs': {'FunctionInput': 'TaskD_Input', 'ExecutionTime': '4'}}}}}}}\n"
     ]
    }
   ],
   "source": [
    "with open('Milestone1A.yaml') as f:\n",
    "    data = yaml.load(f, Loader=SafeLoader)\n",
    "    print(data)\n"
   ]
  },
  {
   "cell_type": "code",
   "execution_count": null,
   "id": "0a0530be",
   "metadata": {},
   "outputs": [],
   "source": []
  },
  {
   "cell_type": "code",
   "execution_count": 144,
   "id": "72729d46",
   "metadata": {},
   "outputs": [],
   "source": [
    "def dataLoad(txt, file):\n",
    "    print(txt,\" Executing DataLoad(\",file,\")\")\n",
    "    f.write(txt+\"Executing DataLoad(\"+file+\")\\n\")\n",
    "    \n",
    "    print(txt,\" Exit\")\n",
    "    f.write(txt+\" Exit\\n\")\n",
    "    \n",
    "def timeFunction(txt, val):\n",
    "    print(txt,\" Executing TimeFunction(\",val,\")\")\n",
    "    f.write(txt+\" Executing TimeFunction(\"+str(val)+\")\\n\")\n",
    "    time.sleep(int(val))\n",
    "    print(txt,\" Exit\")\n",
    "    f.write(txt+\" Exit\\n\")"
   ]
  },
  {
   "cell_type": "code",
   "execution_count": 145,
   "id": "417467ee",
   "metadata": {},
   "outputs": [],
   "source": [
    "def fun(name, obj, stack):\n",
    "    \n",
    "#     print(name, obj)\n",
    "    \n",
    "    if(obj['Type']=='Task'):\n",
    "\n",
    "        str_ = \"\"\n",
    "        for it in stack:\n",
    "            str_ += it+'.'\n",
    "        ct = datetime.datetime.now()\n",
    "        \n",
    "        txt = str(ct)+';'+str_+name\n",
    "        print(txt+' Entry') #TASK entry\n",
    "        f.write(txt+' Entry\\n')\n",
    "        \n",
    "        \n",
    "        if(obj['Function']==\"DataLoad\"):\n",
    "            dataLoad(txt,obj['Inputs']['Filename'])\n",
    "            \n",
    "        elif(obj['Function']==\"TimeFunction\"):\n",
    "            timeFunction(txt,obj['Inputs']['ExecutionTime'])\n",
    "            \n",
    "\n",
    "    if(obj['Type']=='Flow'):\n",
    "        \n",
    "        str_ = \"\"\n",
    "        for it in stack:\n",
    "            str_ += it+'.'\n",
    "        ct = datetime.datetime.now()\n",
    "        \n",
    "        txt = str(ct)+';'+str_+name\n",
    "        print(txt+' Entry') #FLOW entry\n",
    "        f.write(txt+' Entry\\n')\n",
    "        \n",
    "        stack.append(name)\n",
    "        \n",
    "        if(obj['Execution']==\"Sequential\"):\n",
    "            for act in obj['Activities']:\n",
    "                fun(act, obj['Activities'][act],stack)\n",
    "        \n",
    "            stack.pop()\n",
    "            print(txt+' Exit') #FLOW exit\n",
    "            f.write(txt+' Exit\\n')\n",
    "    \n"
   ]
  },
  {
   "cell_type": "code",
   "execution_count": 146,
   "id": "30280998",
   "metadata": {},
   "outputs": [
    {
     "name": "stdout",
     "output_type": "stream",
     "text": [
      "2022-03-08 11:28:51.180456;M1A_Workflow Entry\n",
      "2022-03-08 11:28:51.181009;M1A_Workflow.TaskA Entry\n",
      "2022-03-08 11:28:51.181009;M1A_Workflow.TaskA  Executing TimeFunction( 1 )\n",
      "2022-03-08 11:28:51.181009;M1A_Workflow.TaskA  Exit\n",
      "2022-03-08 11:28:52.182910;M1A_Workflow.TaskB Entry\n",
      "2022-03-08 11:28:52.182910;M1A_Workflow.TaskB  Executing TimeFunction( 2 )\n",
      "2022-03-08 11:28:52.182910;M1A_Workflow.TaskB  Exit\n",
      "2022-03-08 11:28:54.187503;M1A_Workflow.FlowA Entry\n",
      "2022-03-08 11:28:54.187650;M1A_Workflow.FlowA.TaskC Entry\n",
      "2022-03-08 11:28:54.187650;M1A_Workflow.FlowA.TaskC  Executing TimeFunction( 3 )\n",
      "2022-03-08 11:28:54.187650;M1A_Workflow.FlowA.TaskC  Exit\n",
      "2022-03-08 11:28:57.193915;M1A_Workflow.FlowA.TaskD Entry\n",
      "2022-03-08 11:28:57.193915;M1A_Workflow.FlowA.TaskD  Executing TimeFunction( 4 )\n",
      "2022-03-08 11:28:57.193915;M1A_Workflow.FlowA.TaskD  Exit\n",
      "2022-03-08 11:28:54.187503;M1A_Workflow.FlowA Exit\n",
      "2022-03-08 11:28:51.180456;M1A_Workflow Exit\n"
     ]
    }
   ],
   "source": [
    "f = open(\"Milestone1A_log.txt\",\"w+\")\n",
    "start = list(data.keys())[0]\n",
    "fun(start, data[start], [])\n",
    "f.close()"
   ]
  },
  {
   "cell_type": "code",
   "execution_count": null,
   "id": "d34abf61",
   "metadata": {},
   "outputs": [],
   "source": []
  },
  {
   "cell_type": "code",
   "execution_count": null,
   "id": "4d8dcb9f",
   "metadata": {},
   "outputs": [],
   "source": []
  }
 ],
 "metadata": {
  "kernelspec": {
   "display_name": "Python 3",
   "language": "python",
   "name": "python3"
  },
  "language_info": {
   "codemirror_mode": {
    "name": "ipython",
    "version": 3
   },
   "file_extension": ".py",
   "mimetype": "text/x-python",
   "name": "python",
   "nbconvert_exporter": "python",
   "pygments_lexer": "ipython3",
   "version": "3.6.9"
  }
 },
 "nbformat": 4,
 "nbformat_minor": 5
}
